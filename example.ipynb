{
 "cells": [
  {
   "cell_type": "code",
   "execution_count": 1,
   "metadata": {},
   "outputs": [],
   "source": [
    "# torch and numpy imports\n",
    "import torch\n",
    "import torch.nn as nn                    \n",
    "import numpy as np\n",
    "# data imports\n",
    "from scipy.io import loadmat\n",
    "# plotting imports\n",
    "import matplotlib.pyplot as plt"
   ]
  },
  {
   "cell_type": "code",
   "execution_count": 2,
   "metadata": {},
   "outputs": [],
   "source": [
    "#Set default dtype to float32\n",
    "torch.set_default_dtype(torch.float)\n",
    "#PyTorch random number generator\n",
    "torch.manual_seed(1234)\n",
    "# Random number generators in other libraries\n",
    "np.random.seed(1234)\n",
    "# Device configuration\n",
    "device = torch.device('cuda' if torch.cuda.is_available() else 'cpu')"
   ]
  },
  {
   "cell_type": "code",
   "execution_count": 6,
   "metadata": {},
   "outputs": [],
   "source": [
    "data = loadmat('./burgers_shock.mat') \n",
    "x = data['x']                                   # space:      256 points between -1 and 1 [256x1]\n",
    "t = data['t']                                   # time:       100 time points between 0 and 1 [100x1] \n",
    "ysol = data['usol']                             # velocitu:   PDE solution [256x100] \n",
    "\n",
    "nu = 0.01/np.pi                                 #diffusion coeficient\n",
    "\n",
    "X, T = np.meshgrid(x,t)                         # makes 2 arrays X and T such that u(X[i],T[j])=usol[i][j] are a tuple\n",
    "X = torch.tensor(X.T).float()\n",
    "T = torch.tensor(T.T).float()\n",
    "y_real = torch.tensor(ysol).float()"
   ]
  },
  {
   "cell_type": "code",
   "execution_count": 12,
   "metadata": {},
   "outputs": [
    {
     "data": {
      "text/plain": [
       "tensor(-1.)"
      ]
     },
     "execution_count": 12,
     "metadata": {},
     "output_type": "execute_result"
    }
   ],
   "source": [
    "X.flatten().min()"
   ]
  },
  {
   "cell_type": "code",
   "execution_count": null,
   "metadata": {},
   "outputs": [],
   "source": []
  }
 ],
 "metadata": {
  "kernelspec": {
   "display_name": "thermal",
   "language": "python",
   "name": "python3"
  },
  "language_info": {
   "codemirror_mode": {
    "name": "ipython",
    "version": 3
   },
   "file_extension": ".py",
   "mimetype": "text/x-python",
   "name": "python",
   "nbconvert_exporter": "python",
   "pygments_lexer": "ipython3",
   "version": "3.10.13"
  }
 },
 "nbformat": 4,
 "nbformat_minor": 2
}
